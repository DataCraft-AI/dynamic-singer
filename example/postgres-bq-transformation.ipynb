{
 "cells": [
  {
   "cell_type": "code",
   "execution_count": 1,
   "metadata": {},
   "outputs": [
    {
     "data": {
      "text/plain": [
       "'0.0.9'"
      ]
     },
     "execution_count": 1,
     "metadata": {},
     "output_type": "execute_result"
    }
   ],
   "source": [
    "import dynamic_singer as dsinger\n",
    "from dynamic_singer.extra import postgres\n",
    "from google.cloud import secretmanager\n",
    "import json\n",
    "import psycopg2\n",
    "\n",
    "dsinger.__version__"
   ]
  },
  {
   "cell_type": "code",
   "execution_count": 3,
   "metadata": {
    "scrolled": true
   },
   "outputs": [],
   "source": [
    "# create your own connection\n",
    "def get_connection():\n",
    "    \n",
    "    connection = psycopg2.connect(\n",
    "        user = postgres_user,\n",
    "        password = postgres_password,\n",
    "        host = 'localhost',\n",
    "        port = 5432,\n",
    "        database = postgres_database,\n",
    "    )\n",
    "    return connection\n",
    "\n",
    "connection = get_connection()"
   ]
  },
  {
   "cell_type": "markdown",
   "metadata": {},
   "source": [
    "## Before use postgres.Tap\n",
    "\n",
    "We need to create persistent class to save and pull last primary key state.\n",
    "\n",
    "It must an object with method `pull` and `push`.\n",
    "\n",
    "In this example, we simply write to a local file, but in deployment, it is better we store in GCS / S3 / persistent storage."
   ]
  },
  {
   "cell_type": "code",
   "execution_count": 4,
   "metadata": {},
   "outputs": [],
   "source": [
    "class Persistent:\n",
    "    def __init__(self, schema, table):\n",
    "        self.filename = f'{schema}-{table}'\n",
    "    \n",
    "    def pull(self):\n",
    "        with open(self.filename) as fopen:\n",
    "            return fopen.read()\n",
    "        \n",
    "    def push(self, data):\n",
    "        with open(self.filename, 'w') as fopen:\n",
    "            fopen.write(data)"
   ]
  },
  {
   "cell_type": "code",
   "execution_count": 5,
   "metadata": {},
   "outputs": [],
   "source": [
    "schema = ''\n",
    "table = ''\n",
    "primary_key = 'updated_at'\n",
    "batch_size = 100"
   ]
  },
  {
   "cell_type": "markdown",
   "metadata": {},
   "source": [
    "Tap definition as here,\n",
    "\n",
    "```python\n",
    "\n",
    "class Tap:\n",
    "    @check_type\n",
    "    def __init__(\n",
    "        self,\n",
    "        schema: str,\n",
    "        table: str,\n",
    "        primary_key: str,\n",
    "        connection,\n",
    "        persistent,\n",
    "        batch_size: int = 100,\n",
    "        rest_time: int = 10,\n",
    "        filter: str = '',\n",
    "        debug: bool = True,\n",
    "    ):\n",
    "\n",
    "        \"\"\"\n",
    "        Postgres Tap using query statement. If prefer logical replication, use original Tap-Postgres from SingerIO.\n",
    "\n",
    "        Parameters\n",
    "        ----------\n",
    "        schema: str\n",
    "            postgres schema.\n",
    "        table: str\n",
    "            table name.\n",
    "        primary_key: str\n",
    "            column acted as primary key.\n",
    "        connection: object\n",
    "            psycopg2 connection object.\n",
    "        persistent: object\n",
    "            a python object that must has `pull` and `push` method to persist primary_key state.\n",
    "        batch_size: int, (default=100)\n",
    "            size of rows for each pull from postgres.\n",
    "        rest_time: int, (default=10)\n",
    "            rest for rest_time seconds after done pulled.\n",
    "        filter: str, (default='')\n",
    "            sql where statement for additional filter. Example, 'price > 0 and discount > 10', depends on table definition.\n",
    "        debug: bool, (default=True)\n",
    "            if true, will print important information.\n",
    "\n",
    "        \"\"\"\n",
    "```\n",
    "\n",
    "Only `schema`, `table` and `primary_key` are important."
   ]
  },
  {
   "cell_type": "code",
   "execution_count": 6,
   "metadata": {},
   "outputs": [],
   "source": [
    "persistent = Persistent(schema, table)\n",
    "tap = postgres.Tap(schema, table, primary_key, connection, persistent, \n",
    "                   batch_size = batch_size, rest_time = 60)"
   ]
  },
  {
   "cell_type": "markdown",
   "metadata": {},
   "source": [
    "## generate bigquery schema\n",
    "\n",
    "If you are not confident with auto-generate schema from dynamic-singer, we can use `bigquery_schema` to generate schema based on table definition."
   ]
  },
  {
   "cell_type": "code",
   "execution_count": 7,
   "metadata": {},
   "outputs": [],
   "source": [
    "table_schema = postgres.bigquery_schema(schema, table, connection)"
   ]
  },
  {
   "cell_type": "code",
   "execution_count": 8,
   "metadata": {},
   "outputs": [],
   "source": [
    "config = {\n",
    "    'project_id': '',\n",
    "    'dataset_id': 'dynamicsinger',\n",
    "    'validate_records': False,\n",
    "    'stream_data': False,\n",
    "    'batch_size': batch_size\n",
    "}\n",
    "\n",
    "with open('bigquery-config.json', 'w') as fopen:\n",
    "    json.dump(config, fopen)"
   ]
  },
  {
   "cell_type": "code",
   "execution_count": 9,
   "metadata": {},
   "outputs": [],
   "source": [
    "source = dsinger.Source(tap, tap_name = 'example', tap_key = primary_key, tap_schema = table_schema)"
   ]
  },
  {
   "cell_type": "code",
   "execution_count": 10,
   "metadata": {},
   "outputs": [],
   "source": [
    "source.add('target-bigquery --config bigquery-config.json')"
   ]
  },
  {
   "cell_type": "code",
   "execution_count": 11,
   "metadata": {},
   "outputs": [],
   "source": [
    "def transformation(row):\n",
    "    row['extra'] = 1\n",
    "    return row, {'extra': 'integer'}"
   ]
  },
  {
   "cell_type": "code",
   "execution_count": null,
   "metadata": {},
   "outputs": [],
   "source": [
    "source.start(transformation = transformation, ignore_null = False)"
   ]
  }
 ],
 "metadata": {
  "kernelspec": {
   "display_name": "Python 3",
   "language": "python",
   "name": "python3"
  },
  "language_info": {
   "codemirror_mode": {
    "name": "ipython",
    "version": 3
   },
   "file_extension": ".py",
   "mimetype": "text/x-python",
   "name": "python",
   "nbconvert_exporter": "python",
   "pygments_lexer": "ipython3",
   "version": "3.7.5"
  }
 },
 "nbformat": 4,
 "nbformat_minor": 2
}
